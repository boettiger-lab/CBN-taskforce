{
 "cells": [
  {
   "cell_type": "markdown",
   "id": "39bf1de3-cba6-475a-a988-ad48e5af4a04",
   "metadata": {},
   "source": [
    "# Get zonal stats "
   ]
  },
  {
   "cell_type": "code",
   "execution_count": 2,
   "id": "ba047a55-642d-4c27-a367-5f35f4406218",
   "metadata": {},
   "outputs": [],
   "source": [
    "import ibis\n",
    "import ibis.selectors as s\n",
    "from ibis import _\n",
    "import fiona\n",
    "import geopandas as gpd\n",
    "import rioxarray\n",
    "from shapely.geometry import box\n",
    "\n",
    "import rasterio\n",
    "from rasterio.mask import mask\n",
    "from rasterstats import zonal_stats\n",
    "import pandas as pd\n",
    "from joblib import Parallel, delayed\n",
    "\n",
    "con = ibis.duckdb.connect()\n",
    "con.load_extension(\"spatial\")\n",
    "threads = -1"
   ]
  },
  {
   "cell_type": "code",
   "execution_count": 61,
   "id": "8b5656db-2d1d-4ca8-826d-7588126e52e8",
   "metadata": {},
   "outputs": [],
   "source": [
    "# cropping US data to only CA \n",
    "def crop_raster_to_bounds(tif_file, vector_gdf):\n",
    "    with rasterio.open(tif_file) as src:\n",
    "        # Get California's bounding box in the same CRS as the raster\n",
    "        california_bounds = vector_gdf.total_bounds\n",
    "        california_bounds = rasterio.coords.BoundingBox(\n",
    "            *california_bounds\n",
    "        )\n",
    "        # Crop the raster to the California bounding box\n",
    "        out_image, out_transform = mask(src, [california_bounds], crop=True)\n",
    "        out_meta = src.meta.copy()\n",
    "        out_meta.update({\n",
    "            \"driver\": \"GTiff\",\n",
    "            \"height\": out_image.shape[1],\n",
    "            \"width\": out_image.shape[2],\n",
    "            \"transform\": out_transform\n",
    "        })\n",
    "        print(\"Unique values in cropped raster:\", np.unique(out_image))\n",
    "\n",
    "    return out_image, out_meta\n"
   ]
  },
  {
   "cell_type": "code",
   "execution_count": 62,
   "id": "9a0e3446-16ac-40b0-9e34-db0157038c5a",
   "metadata": {},
   "outputs": [],
   "source": [
    "def big_zonal_stats(vec_file, tif_file, stats, col_name, n_jobs, verbose=10, timeout=10000):\n",
    "    gdf = gpd.read_parquet(vec_file)\n",
    "    if gdf.crs is None:\n",
    "        gdf = gdf.set_crs(\"EPSG:4326\")\n",
    "    gdf = gdf.rename(columns={\"geom\": \"geometry\"})\n",
    "    gdf = gdf.set_geometry(\"geometry\")\n",
    "    gdf = gdf[gdf[\"geometry\"].notna()].copy()\n",
    "\n",
    "    with rasterio.open(tif_file) as src:\n",
    "        raster_crs = src.crs\n",
    "        gdf = gdf.to_crs(raster_crs)  # Transform vector to raster CRS\n",
    "        \n",
    "        # CA bounding box + convert it to a polygon in raster CRS\n",
    "        california_polygon = box(*gdf.total_bounds)\n",
    "        \n",
    "        out_image, out_transform = mask(src, [california_polygon], crop=True, nodata=src.nodata)\n",
    "\n",
    "        # If raster is 3D, select the first band\n",
    "        if out_image.ndim == 3:\n",
    "            out_image = out_image[0]\n",
    "\n",
    "    # compute zonal statistics for each geometry slice\n",
    "    def get_stats(geom_slice):\n",
    "        geom = [geom_slice.geometry]\n",
    "        stats_result = zonal_stats(\n",
    "            geom, out_image, stats=stats, affine=out_transform, all_touched=True, nodata=src.nodata\n",
    "        )\n",
    "        return stats_result[0] if stats_result and stats_result[0].get(\"mean\") is not None else {'mean': None}\n",
    "\n",
    "    output = [get_stats(row) for row in gdf.itertuples()]\n",
    "    gdf[col_name] = [res['mean'] for res in output]\n",
    "\n",
    "    return gdf"
   ]
  },
  {
   "cell_type": "code",
   "execution_count": 8,
   "id": "ce66bae6-bac5-4837-9b01-fde16a00c303",
   "metadata": {},
   "outputs": [],
   "source": [
    "# getting local copies of data \n",
    "# aws s3 cp s3://vizzuality/hfp-100/hfp_2021_100m_v1-2_cog.tif . --endpoint-url=https://data.source.coop\n",
    "# aws s3 cp s3://vizzuality/lg-land-carbon-data/natcrop_bii_100m_cog.tif . --endpoint-url=https://data.source.coop\n",
    "# aws s3 cp s3://vizzuality/lg-land-carbon-data/natcrop_fii_100m_cog.tif . --endpoint-url=https://data.source.coop\n",
    "# aws s3 cp s3://vizzuality/lg-land-carbon-data/natcrop_expansion_100m_cog.tif . --endpoint-url=https://data.source.coop\n",
    "# aws s3 cp s3://vizzuality/lg-land-carbon-data/natcrop_reduction_100m_cog.tif . --endpoint-url=https://data.source.coop\n",
    "# aws s3 cp s3://cboettig/carbon/cogs/irrecoverable_c_total_2018.tif . --endpoint-url=https://data.source.coop\n",
    "# aws s3 cp s3://cboettig/carbon/cogs/manageable_c_total_2018.tif . --endpoint-url=https://data.source.coop\n",
    "# ! aws s3 cp s3://cboettig/justice40/disadvantaged-communities.parquet . --endpoint-url=https://data.source.coop\n",
    "# minio/shared-biodiversity/redlist/cog/combined_sr_2022.tif\n",
    "# /home/rstudio/minio/shared-biodiversity/redlist/cog/combined_rwr_2022.tif\n",
    "# ! aws s3 cp s3://cboettig/social-vulnerability/svi2020_us_tract.parquet . --endpoint-url=https://data.source.coop\n"
   ]
  },
  {
   "cell_type": "markdown",
   "id": "531e7f88-1ce1-4027-b0ab-aab597e9a2b2",
   "metadata": {},
   "source": [
    "# Biodiversity Data"
   ]
  },
  {
   "cell_type": "code",
   "execution_count": 21,
   "id": "66dec912-ad8a-41cf-a5c2-6ec9cc350984",
   "metadata": {},
   "outputs": [
    {
     "name": "stdout",
     "output_type": "stream",
     "text": [
      "CPU times: user 1min 52s, sys: 5.01 s, total: 1min 57s\n",
      "Wall time: 1min 57s\n"
     ]
    }
   ],
   "source": [
    "%%time\n",
    "tif_file = 'SpeciesRichness_All.tif'\n",
    "vec_file = \"/home/rstudio/github/ca-30x30/ca2024-30m.parquet\"\n",
    "df = big_zonal_stats(vec_file, tif_file, stats = ['mean'], col_name = \"richness\", n_jobs=threads, verbose=0).to_parquet(\"cpad-stats-temp.parquet\")\n"
   ]
  },
  {
   "cell_type": "code",
   "execution_count": 22,
   "id": "b081ec1a-ea91-485e-95f9-12cd06c2002a",
   "metadata": {},
   "outputs": [
    {
     "name": "stdout",
     "output_type": "stream",
     "text": [
      "CPU times: user 1min 50s, sys: 4.47 s, total: 1min 54s\n",
      "Wall time: 1min 54s\n"
     ]
    }
   ],
   "source": [
    "%%time\n",
    "tif_file = 'RSR_All.tif'\n",
    "vec_file = './cpad-stats-temp.parquet'\n",
    "df = big_zonal_stats(vec_file, tif_file, stats = ['mean'],\n",
    "                      col_name = \"rsr\", n_jobs=threads, verbose=0).to_parquet(\"cpad-stats-temp.parquet\")"
   ]
  },
  {
   "cell_type": "code",
   "execution_count": null,
   "id": "d5133f36-404e-4f6a-a90b-eb5f098e6f06",
   "metadata": {},
   "outputs": [],
   "source": [
    "%%time\n",
    "tif_file = 'combined_sr_2022.tif'\n",
    "vec_file = './cpad-stats-temp.parquet'\n",
    "df = big_zonal_stats(vec_file, tif_file, stats = ['mean'],  col_name = \"all_species_richness\", n_jobs=threads, verbose=0).to_parquet(\"cpad-stats-temp.parquet\")\n"
   ]
  },
  {
   "cell_type": "code",
   "execution_count": null,
   "id": "2ce56a66-34e3-4f61-95ae-65d1f06bc468",
   "metadata": {},
   "outputs": [],
   "source": [
    "%%time\n",
    "tif_file = 'combined_rwr_2022.tif'\n",
    "vec_file = './cpad-stats-temp.parquet'\n",
    "df = big_zonal_stats(vec_file, tif_file, stats = ['mean'],  col_name = \"all_species_rwr\", n_jobs=threads, verbose=0).to_parquet(\"cpad-stats-temp.parquet\")\n"
   ]
  },
  {
   "cell_type": "markdown",
   "id": "6c129894-3775-4842-8767-f81a8f626d2c",
   "metadata": {},
   "source": [
    "# Carbon Data"
   ]
  },
  {
   "cell_type": "code",
   "execution_count": null,
   "id": "19c3e402-8712-450f-b3dd-af9d0c01689c",
   "metadata": {},
   "outputs": [],
   "source": [
    "%%time\n",
    "tif_file = 'irrecoverable_c_total_2018.tif'\n",
    "vec_file = './cpad-stats-temp.parquet'\n",
    "df = big_zonal_stats(vec_file, tif_file, stats = ['mean'],  col_name = \"irrecoverable_carbon\", n_jobs=threads, verbose=0).to_parquet(\"cpad-stats-temp.parquet\")\n",
    "\n"
   ]
  },
  {
   "cell_type": "code",
   "execution_count": null,
   "id": "c55c777a-48ce-4403-a171-cfc0d2351df6",
   "metadata": {},
   "outputs": [],
   "source": [
    "%%time\n",
    "tif_file = 'manageable_c_total_2018.tif'\n",
    "vec_file = './cpad-stats-temp.parquet'\n",
    "df = big_zonal_stats(vec_file, tif_file, stats = ['mean'],  col_name = \"manageable_carbon\", n_jobs=threads, verbose=0).to_parquet(\"cpad-stats-temp.parquet\")\n"
   ]
  },
  {
   "cell_type": "code",
   "execution_count": 23,
   "id": "33ac0fb7-2cde-448d-a634-1973e34ac14f",
   "metadata": {},
   "outputs": [
    {
     "name": "stderr",
     "output_type": "stream",
     "text": [
      "/opt/venv/lib/python3.10/site-packages/rasterstats/io.py:335: NodataWarning: Setting nodata to -999; specify nodata explicitly\n",
      "  warnings.warn(\n"
     ]
    },
    {
     "name": "stdout",
     "output_type": "stream",
     "text": [
      "CPU times: user 1min 58s, sys: 4.93 s, total: 2min 3s\n",
      "Wall time: 2min 3s\n"
     ]
    }
   ],
   "source": [
    "%%time\n",
    "tif_file = 'deforest_carbon_100m_cog.tif'\n",
    "vec_file = './cpad-stats-temp.parquet'\n",
    "df = big_zonal_stats(vec_file, tif_file, stats = ['mean'], \n",
    "                     col_name = \"deforest_carbon\", n_jobs=threads, verbose=0).to_parquet(\"cpad-stats-temp.parquet\")\n"
   ]
  },
  {
   "cell_type": "markdown",
   "id": "096c00a8-57af-41d7-93cc-85d85414aa4f",
   "metadata": {},
   "source": [
    "# Human Impact Data"
   ]
  },
  {
   "cell_type": "code",
   "execution_count": 24,
   "id": "d2a8c10f-e94b-4eef-940f-2af9599edee1",
   "metadata": {},
   "outputs": [
    {
     "name": "stdout",
     "output_type": "stream",
     "text": [
      "CPU times: user 1min 53s, sys: 4.81 s, total: 1min 58s\n",
      "Wall time: 1min 58s\n"
     ]
    }
   ],
   "source": [
    "%%time\n",
    "tif_file = 'natcrop_bii_100m_cog.tif'\n",
    "vec_file = './cpad-stats-temp.parquet'\n",
    "df = big_zonal_stats(vec_file, tif_file, stats = ['mean'], \n",
    "                     col_name = \"biodiversity_intactness_loss\", n_jobs=threads, verbose=0).to_parquet(\"cpad-stats-temp.parquet\")\n"
   ]
  },
  {
   "cell_type": "code",
   "execution_count": 25,
   "id": "1c318f39-7ca0-4f3c-80fb-73f72202e4e0",
   "metadata": {},
   "outputs": [
    {
     "name": "stdout",
     "output_type": "stream",
     "text": [
      "CPU times: user 1min 53s, sys: 4.9 s, total: 1min 58s\n",
      "Wall time: 1min 58s\n"
     ]
    }
   ],
   "source": [
    "%%time\n",
    "tif_file = 'natcrop_fii_100m_cog.tif'\n",
    "vec_file = './cpad-stats-temp.parquet'\n",
    "df = big_zonal_stats(vec_file, tif_file, stats = ['mean'],\n",
    "                     col_name = \"forest_integrity_loss\", n_jobs=threads, verbose=0).to_parquet(\"cpad-stats-temp.parquet\")\n",
    "\n"
   ]
  },
  {
   "cell_type": "code",
   "execution_count": 7,
   "id": "aef9070a-c87a-463e-81b8-3cc6c5c9d484",
   "metadata": {},
   "outputs": [
    {
     "name": "stderr",
     "output_type": "stream",
     "text": [
      "/opt/conda/lib/python3.12/site-packages/rasterstats/io.py:335: NodataWarning: Setting nodata to -999; specify nodata explicitly\n",
      "  warnings.warn(\n"
     ]
    },
    {
     "name": "stdout",
     "output_type": "stream",
     "text": [
      "CPU times: user 3min 13s, sys: 55 s, total: 4min 8s\n",
      "Wall time: 4min 8s\n"
     ]
    }
   ],
   "source": [
    "%%time\n",
    "tif_file = 'natcrop_expansion_100m_cog.tif'\n",
    "vec_file = './cpad-stats-temp.parquet'\n",
    "df = big_zonal_stats(vec_file, tif_file, stats = ['mean'],  col_name = \"crop_expansion\", n_jobs=threads, verbose=0)\n",
    "gpd.GeoDataFrame(df, geometry=\"geometry\").to_parquet(\"cpad-stats-temp.parquet\")\n"
   ]
  },
  {
   "cell_type": "code",
   "execution_count": null,
   "id": "d94f937b-b32c-4de1-b4ac-93ce33f0919f",
   "metadata": {},
   "outputs": [],
   "source": [
    "%%time\n",
    "tif_file = 'natcrop_reduction_100m_cog.tif'\n",
    "vec_file = './cpad-stats-temp.parquet'\n",
    "df = big_zonal_stats(vec_file, tif_file, stats = ['mean'],  col_name = \"crop_reduction\", n_jobs=threads, verbose=0).to_parquet(\"cpad-stats-temp.parquet\")\n"
   ]
  },
  {
   "cell_type": "code",
   "execution_count": 20,
   "id": "6bdaba61-30c1-49d6-a4e6-db68f1daafa3",
   "metadata": {},
   "outputs": [
    {
     "name": "stdout",
     "output_type": "stream",
     "text": [
      "CPU times: user 3min 16s, sys: 57 s, total: 4min 13s\n",
      "Wall time: 4min 12s\n"
     ]
    }
   ],
   "source": [
    "%%time\n",
    "tif_file = 'hfp_2021_100m_v1-2_cog.tif'\n",
    "vec_file = './cpad-stats-temp.parquet'\n",
    "df = big_zonal_stats(vec_file, tif_file, stats = ['mean'],  col_name = \"human_impact\", n_jobs=threads, verbose=0).to_parquet(\"cpad-stats-temp.parquet\")\n"
   ]
  },
  {
   "cell_type": "markdown",
   "id": "f8e037d4-7a34-42bc-941f-0c09ee80ef3b",
   "metadata": {},
   "source": [
    "# Need to convert SVI & Justice40 files to tif"
   ]
  },
  {
   "cell_type": "code",
   "execution_count": 60,
   "id": "c4a19013-65f1-4eef-be2d-0cf1be3d0f7f",
   "metadata": {},
   "outputs": [],
   "source": [
    "import geopandas as gpd\n",
    "import numpy as np\n",
    "import rasterio\n",
    "from rasterio.features import rasterize\n",
    "from rasterio.transform import from_bounds\n",
    "\n",
    "def get_geotiff(gdf, output_file,col):\n",
    "    gdf = gdf.set_geometry(\"geometry\")\n",
    "    gdf = gdf.set_crs(\"EPSG:4326\")\n",
    "    print(gdf.crs)\n",
    "\n",
    "    # Set raster properties\n",
    "    minx, miny, maxx, maxy = gdf.total_bounds  # Get the bounds of the geometry\n",
    "    pixel_size = 0.01  # Define the pixel size in units of the CRS\n",
    "    width = int((maxx - minx) / pixel_size)\n",
    "    height = int((maxy - miny) / pixel_size)\n",
    "    transform = from_bounds(minx, miny, maxx, maxy, width, height)\n",
    "    \n",
    "    # Define rasterization with continuous values\n",
    "    shapes = ((geom, value) for geom, value in zip(gdf.geometry, gdf[col]))\n",
    "    raster = rasterize(\n",
    "        shapes,\n",
    "        out_shape=(height, width),\n",
    "        transform=transform,\n",
    "        fill=0.0,  # Background value for areas outside the geometry\n",
    "        dtype=\"float32\"  # Set data type to handle continuous values\n",
    "    )\n",
    "    print(\"Unique values in raster:\", np.unique(raster))\n",
    "\n",
    "    # Define GeoTIFF metadata\n",
    "    out_meta = {\n",
    "        \"driver\": \"GTiff\",\n",
    "        \"height\": height,\n",
    "        \"width\": width,\n",
    "        \"count\": 1,\n",
    "        \"dtype\": raster.dtype,\n",
    "        \"crs\": gdf.crs,\n",
    "        \"transform\": transform,\n",
    "        \"compress\": \"deflate\"  # Use compression to reduce file size\n",
    "    }\n",
    "    \n",
    "    # Write to a GeoTIFF file with COG options\n",
    "    with rasterio.open(output_file, \"w\", **out_meta) as dest:\n",
    "        dest.write(raster, 1)\n",
    "        dest.build_overviews([2, 4, 8, 16], rasterio.enums.Resampling.average)\n",
    "        dest.update_tags(1, TIFFTAG_RESOLUTION_UNIT=\"Meter\")\n"
   ]
  },
  {
   "cell_type": "markdown",
   "id": "f4925a74-5ed2-49a4-845b-6a0f0398a43e",
   "metadata": {},
   "source": [
    "# SVI"
   ]
  },
  {
   "cell_type": "code",
   "execution_count": 25,
   "id": "4e678f01-73af-4f99-a565-e9b7f04d9547",
   "metadata": {},
   "outputs": [],
   "source": [
    "# clean up SVI data\n",
    "svi_df =  (con\n",
    " .read_parquet(\"svi2020_us_tract.parquet\")\n",
    " .select(\"RPL_THEMES\",\"RPL_THEME1\",\"RPL_THEME2\",\"RPL_THEME3\",\"RPL_THEME4\",\"Shape\")\n",
    " .rename(SVI = \"RPL_THEMES\", socioeconomic = \"RPL_THEME1\", \n",
    "         household_char = \"RPL_THEME2\", racial_ethnic_minority =  \"RPL_THEME3\",\n",
    "         housing_transit = \"RPL_THEME4\", geometry = \"Shape\")\n",
    ".cast({\"geometry\":\"geometry\"})\n",
    ")\n",
    "svi_df.execute().to_parquet(\"svi2020_us_tract_clean.parquet\")\n"
   ]
  },
  {
   "cell_type": "code",
   "execution_count": 27,
   "id": "c5046d6b-9798-46d3-a1bc-548e29414007",
   "metadata": {},
   "outputs": [
    {
     "name": "stdout",
     "output_type": "stream",
     "text": [
      "EPSG:4326\n",
      "Unique values in raster: [-9.990e+02  0.000e+00  1.000e-04 ...  9.998e-01  9.999e-01  1.000e+00]\n",
      "EPSG:4326\n",
      "Unique values in raster: [-9.990e+02  0.000e+00  4.000e-04 ...  9.998e-01  9.999e-01  1.000e+00]\n",
      "EPSG:4326\n",
      "Unique values in raster: [-9.990e+02  0.000e+00  3.000e-04 ...  9.998e-01  9.999e-01  1.000e+00]\n",
      "EPSG:4326\n",
      "Unique values in raster: [-9.990e+02  0.000e+00  2.400e-03 ...  9.943e-01  9.952e-01  9.959e-01]\n",
      "EPSG:4326\n",
      "Unique values in raster: [-9.990e+02  0.000e+00  9.000e-03 ...  9.998e-01  9.999e-01  1.000e+00]\n"
     ]
    }
   ],
   "source": [
    "gdf = gpd.read_parquet(\"svi2020_us_tract_clean.parquet\")\n",
    "svi = gdf[['SVI','geometry']]\n",
    "socio = gdf[['socioeconomic','geometry']]\n",
    "house = gdf[['household_char','geometry']]\n",
    "minority = gdf[['racial_ethnic_minority','geometry']]\n",
    "transit = gdf[['housing_transit','geometry']]\n",
    "\n",
    "#convert SVI parquet to tif\n",
    "get_geotiff(svi,\"svi.tif\",\"SVI\")\n",
    "get_geotiff(socio,\"svi_socioeconomic.tif\",\"socioeconomic\")\n",
    "get_geotiff(house,\"svi_household.tif\",\"household_char\")\n",
    "get_geotiff(minority,\"svi_minority.tif\",\"racial_ethnic_minority\")\n",
    "get_geotiff(transit,\"svi_transit.tif\",\"housing_transit\")"
   ]
  },
  {
   "cell_type": "code",
   "execution_count": 28,
   "id": "6a36b77f-d0be-45bd-9318-da4b57eaf353",
   "metadata": {},
   "outputs": [
    {
     "name": "stdout",
     "output_type": "stream",
     "text": [
      "CPU times: user 3min 26s, sys: 56.6 s, total: 4min 23s\n",
      "Wall time: 4min 27s\n"
     ]
    }
   ],
   "source": [
    "%%time\n",
    "tif_file = 'svi.tif'\n",
    "vec_file = './cpad-stats-temp.parquet'\n",
    "df = big_zonal_stats(vec_file, tif_file, stats = ['mean'],  col_name = \"SVI\", n_jobs=threads, verbose=0).to_parquet(\"cpad-stats-temp.parquet\")\n",
    "\n"
   ]
  },
  {
   "cell_type": "code",
   "execution_count": 29,
   "id": "05ef74e2-3f23-4f69-8cd3-8862cb73a259",
   "metadata": {},
   "outputs": [
    {
     "name": "stdout",
     "output_type": "stream",
     "text": [
      "CPU times: user 3min 22s, sys: 56.4 s, total: 4min 18s\n",
      "Wall time: 4min 27s\n"
     ]
    }
   ],
   "source": [
    "%%time\n",
    "vec_file = './cpad-stats-temp.parquet'\n",
    "tif_file = 'svi_socioeconomic.tif'\n",
    "df = big_zonal_stats(vec_file, tif_file, stats = ['mean'],  col_name = \"socioeconomic_status\", n_jobs=threads, verbose=0).to_parquet(\"cpad-stats-temp.parquet\")\n",
    "\n"
   ]
  },
  {
   "cell_type": "code",
   "execution_count": 30,
   "id": "23417a03-38c2-4b31-8340-f08ec8a11631",
   "metadata": {},
   "outputs": [
    {
     "name": "stdout",
     "output_type": "stream",
     "text": [
      "CPU times: user 3min 11s, sys: 54.3 s, total: 4min 5s\n",
      "Wall time: 4min 5s\n"
     ]
    }
   ],
   "source": [
    "%%time\n",
    "vec_file = './cpad-stats-temp.parquet'\n",
    "tif_file = 'svi_household.tif'\n",
    "df = big_zonal_stats(vec_file, tif_file, stats = ['mean'],  col_name = \"household_char\", n_jobs=threads, verbose=0).to_parquet(\"cpad-stats-temp.parquet\")\n",
    "\n"
   ]
  },
  {
   "cell_type": "code",
   "execution_count": 31,
   "id": "de86d7f0-6cdc-4d05-bdee-d9803cbd83bd",
   "metadata": {},
   "outputs": [
    {
     "name": "stdout",
     "output_type": "stream",
     "text": [
      "CPU times: user 3min 11s, sys: 54.1 s, total: 4min 5s\n",
      "Wall time: 4min 5s\n"
     ]
    }
   ],
   "source": [
    "%%time\n",
    "vec_file = './cpad-stats-temp.parquet'\n",
    "tif_file = 'svi_minority.tif'\n",
    "df = big_zonal_stats(vec_file, tif_file, stats = ['mean'],  col_name = \"racial_ethnic_minority\", n_jobs=threads, verbose=0).to_parquet(\"cpad-stats-temp.parquet\")\n"
   ]
  },
  {
   "cell_type": "code",
   "execution_count": 32,
   "id": "0c49dd50-7dd3-4240-9af8-3e32ec656bc0",
   "metadata": {},
   "outputs": [
    {
     "name": "stdout",
     "output_type": "stream",
     "text": [
      "CPU times: user 3min 13s, sys: 54.7 s, total: 4min 8s\n",
      "Wall time: 4min 7s\n"
     ]
    }
   ],
   "source": [
    "%%time\n",
    "vec_file = './cpad-stats-temp.parquet'\n",
    "tif_file = 'svi_transit.tif'\n",
    "df = big_zonal_stats(vec_file, tif_file, stats = ['mean'],  col_name = \"housing_transit\", n_jobs=threads, verbose=0).to_parquet(\"cpad-stats-temp.parquet\")\n"
   ]
  },
  {
   "cell_type": "markdown",
   "id": "ff4b6604-9828-4882-90bd-554c21f5c6e6",
   "metadata": {},
   "source": [
    "# Justice40 "
   ]
  },
  {
   "cell_type": "code",
   "execution_count": 56,
   "id": "3678a91f-72f7-4339-a409-a97776cba043",
   "metadata": {},
   "outputs": [
    {
     "name": "stdout",
     "output_type": "stream",
     "text": [
      "EPSG:4326\n",
      "Unique values in raster: [0. 1.]\n"
     ]
    }
   ],
   "source": [
    "#clean up\n",
    "justice40 =  (con\n",
    "        .read_parquet(\"disadvantaged-communities.parquet\")\n",
    "        .rename(geometry = \"SHAPE\",justice40=\"Disadvan\")\n",
    "        .filter(_.StateName == \"California\")\n",
    "        .mutate(geometry = _.geometry.convert(\"ESRI:102039\",\"EPSG:4326\"))\n",
    "        .select(\"justice40\",\"geometry\")\n",
    "        )\n",
    "gdf = justice40.execute()\n",
    "get_geotiff(gdf,\"ca_justice40.tif\",\"justice40\")\n",
    "\n"
   ]
  },
  {
   "cell_type": "code",
   "execution_count": 73,
   "id": "8faa425f-6f9c-4189-a53a-24dd0250c539",
   "metadata": {},
   "outputs": [],
   "source": [
    "#justice40 is binary data so we want to get the percentage of polygon where justice40 = 1.  \n",
    "\n",
    "def big_zonal_stats_binary(vec_file, tif_file, col_name, n_jobs, verbose=10, timeout=10000):\n",
    "    gdf = gpd.read_parquet(vec_file)\n",
    "    if gdf.crs is None:\n",
    "        gdf = gdf.set_crs(\"EPSG:4326\")\n",
    "    gdf = gdf.rename(columns={\"geom\": \"geometry\"})\n",
    "    gdf = gdf.set_geometry(\"geometry\")\n",
    "    gdf = gdf[gdf[\"geometry\"].notna()].copy()\n",
    "\n",
    "    with rasterio.open(tif_file) as src:\n",
    "        raster_crs = src.crs\n",
    "        gdf = gdf.to_crs(raster_crs) \n",
    "        \n",
    "        california_polygon = box(*gdf.total_bounds)\n",
    "        \n",
    "        out_image, out_transform = mask(src, [california_polygon], crop=True, nodata=src.nodata)\n",
    "\n",
    "        if out_image.ndim == 3:\n",
    "            out_image = out_image[0]\n",
    "\n",
    "        def get_stats(geom_slice):\n",
    "            geom = [geom_slice.geometry]\n",
    "            masked_image, _ = mask(src, geom, crop=True, all_touched=True, nodata=src.nodata)\n",
    "            \n",
    "            # If the masked area is empty, return None\n",
    "            if masked_image.size == 0:\n",
    "                return {'percentage_1': None}\n",
    "            \n",
    "            # Count 1s and calculate percentage\n",
    "            count_1 = (masked_image == 1).sum()\n",
    "            total_count = (masked_image != src.nodata).sum()\n",
    "            \n",
    "            # Calculate percentage of justice40 = 1 within the polygon\n",
    "            percentage_1 = (count_1 / total_count) * 100 if total_count > 0 else None\n",
    "            \n",
    "            return {'percentage_1': percentage_1}\n",
    "\n",
    "        output = [get_stats(row) for row in gdf.itertuples()]\n",
    "    \n",
    "    gdf[col_name] = [res['percentage_1'] for res in output]\n",
    "    return gdf\n",
    "\n",
    "# Run the function\n"
   ]
  },
  {
   "cell_type": "code",
   "execution_count": 74,
   "id": "f5f7297a-e31b-4d3c-ae1c-7e3d78bc141a",
   "metadata": {},
   "outputs": [
    {
     "name": "stdout",
     "output_type": "stream",
     "text": [
      "CPU times: user 2min 2s, sys: 29.1 s, total: 2min 31s\n",
      "Wall time: 2min 32s\n"
     ]
    }
   ],
   "source": [
    "%%time\n",
    "tif_file = 'ca_justice40.tif'\n",
    "vec_file = './cpad-stats-temp.parquet'\n",
    "df = big_zonal_stats_binary(vec_file, tif_file, col_name=\"justice40\", n_jobs=threads, verbose=0)\n",
    "df.to_parquet(\"cpad-stats-temp.parquet\")\n"
   ]
  },
  {
   "cell_type": "markdown",
   "id": "e3083b85-1322-4188-ac08-e73c2570978c",
   "metadata": {},
   "source": [
    "# Cleaning up"
   ]
  },
  {
   "cell_type": "code",
   "execution_count": 130,
   "id": "2e4de199-82d4-4e2b-8572-6fe19b57d1ee",
   "metadata": {},
   "outputs": [
    {
     "data": {
      "text/html": [
       "<div>\n",
       "<style scoped>\n",
       "    .dataframe tbody tr th:only-of-type {\n",
       "        vertical-align: middle;\n",
       "    }\n",
       "\n",
       "    .dataframe tbody tr th {\n",
       "        vertical-align: top;\n",
       "    }\n",
       "\n",
       "    .dataframe thead th {\n",
       "        text-align: right;\n",
       "    }\n",
       "</style>\n",
       "<table border=\"1\" class=\"dataframe\">\n",
       "  <thead>\n",
       "    <tr style=\"text-align: right;\">\n",
       "      <th></th>\n",
       "      <th>established</th>\n",
       "      <th>reGAP</th>\n",
       "      <th>name</th>\n",
       "      <th>access_type</th>\n",
       "      <th>manager</th>\n",
       "      <th>manager_type</th>\n",
       "      <th>Easement</th>\n",
       "      <th>Acres</th>\n",
       "      <th>id</th>\n",
       "      <th>type</th>\n",
       "      <th>...</th>\n",
       "      <th>all_species_rwr</th>\n",
       "      <th>all_species_richness</th>\n",
       "      <th>human_impact</th>\n",
       "      <th>svi</th>\n",
       "      <th>justice40</th>\n",
       "      <th>svi_socioeconomic_status</th>\n",
       "      <th>svi_household_char</th>\n",
       "      <th>svi_racial_ethnic_minority</th>\n",
       "      <th>svi_housing_transit</th>\n",
       "      <th>geom</th>\n",
       "    </tr>\n",
       "  </thead>\n",
       "  <tbody>\n",
       "    <tr>\n",
       "      <th>0</th>\n",
       "      <td>2024</td>\n",
       "      <td>2</td>\n",
       "      <td>Six Rivers National Forest</td>\n",
       "      <td>Open Access</td>\n",
       "      <td>United States Forest Service</td>\n",
       "      <td>Federal</td>\n",
       "      <td>0</td>\n",
       "      <td>0.191763</td>\n",
       "      <td>100001</td>\n",
       "      <td>Land</td>\n",
       "      <td>...</td>\n",
       "      <td>0.355</td>\n",
       "      <td>346.0</td>\n",
       "      <td>2339.00</td>\n",
       "      <td>0.521</td>\n",
       "      <td>0.0</td>\n",
       "      <td>0.29</td>\n",
       "      <td>0.522</td>\n",
       "      <td>0.428</td>\n",
       "      <td>0.816</td>\n",
       "      <td>MULTIPOLYGON Z (((-123.94358 41.95869 0.00000,...</td>\n",
       "    </tr>\n",
       "    <tr>\n",
       "      <th>1</th>\n",
       "      <td>2024</td>\n",
       "      <td>1</td>\n",
       "      <td>Six Rivers National Forest</td>\n",
       "      <td>Open Access</td>\n",
       "      <td>United States Forest Service</td>\n",
       "      <td>Federal</td>\n",
       "      <td>0</td>\n",
       "      <td>0.247565</td>\n",
       "      <td>100002</td>\n",
       "      <td>Land</td>\n",
       "      <td>...</td>\n",
       "      <td>0.355</td>\n",
       "      <td>346.0</td>\n",
       "      <td>870.50</td>\n",
       "      <td>0.521</td>\n",
       "      <td>0.0</td>\n",
       "      <td>0.29</td>\n",
       "      <td>0.522</td>\n",
       "      <td>0.428</td>\n",
       "      <td>0.816</td>\n",
       "      <td>MULTIPOLYGON Z (((-123.98793 41.94847 0.00000,...</td>\n",
       "    </tr>\n",
       "    <tr>\n",
       "      <th>2</th>\n",
       "      <td>2024</td>\n",
       "      <td>1</td>\n",
       "      <td>Six Rivers National Forest</td>\n",
       "      <td>Open Access</td>\n",
       "      <td>United States Forest Service</td>\n",
       "      <td>Federal</td>\n",
       "      <td>0</td>\n",
       "      <td>1.046992</td>\n",
       "      <td>100003</td>\n",
       "      <td>Land</td>\n",
       "      <td>...</td>\n",
       "      <td>0.355</td>\n",
       "      <td>346.0</td>\n",
       "      <td>429.00</td>\n",
       "      <td>0.521</td>\n",
       "      <td>0.0</td>\n",
       "      <td>0.29</td>\n",
       "      <td>0.522</td>\n",
       "      <td>0.429</td>\n",
       "      <td>0.816</td>\n",
       "      <td>MULTIPOLYGON Z (((-123.87957 41.97172 0.00000,...</td>\n",
       "    </tr>\n",
       "    <tr>\n",
       "      <th>3</th>\n",
       "      <td>2024</td>\n",
       "      <td>1</td>\n",
       "      <td>Six Rivers National Forest</td>\n",
       "      <td>Open Access</td>\n",
       "      <td>United States Forest Service</td>\n",
       "      <td>Federal</td>\n",
       "      <td>0</td>\n",
       "      <td>0.293964</td>\n",
       "      <td>100004</td>\n",
       "      <td>Land</td>\n",
       "      <td>...</td>\n",
       "      <td>0.355</td>\n",
       "      <td>346.0</td>\n",
       "      <td>3907.00</td>\n",
       "      <td>0.521</td>\n",
       "      <td>0.0</td>\n",
       "      <td>0.29</td>\n",
       "      <td>0.522</td>\n",
       "      <td>0.428</td>\n",
       "      <td>0.816</td>\n",
       "      <td>MULTIPOLYGON Z (((-123.84466 41.99139 0.00000,...</td>\n",
       "    </tr>\n",
       "    <tr>\n",
       "      <th>4</th>\n",
       "      <td>2024</td>\n",
       "      <td>1</td>\n",
       "      <td>Six Rivers National Forest</td>\n",
       "      <td>Open Access</td>\n",
       "      <td>United States Forest Service</td>\n",
       "      <td>Federal</td>\n",
       "      <td>0</td>\n",
       "      <td>0.912564</td>\n",
       "      <td>100005</td>\n",
       "      <td>Land</td>\n",
       "      <td>...</td>\n",
       "      <td>0.355</td>\n",
       "      <td>346.0</td>\n",
       "      <td>698.25</td>\n",
       "      <td>0.521</td>\n",
       "      <td>0.0</td>\n",
       "      <td>0.29</td>\n",
       "      <td>0.522</td>\n",
       "      <td>0.428</td>\n",
       "      <td>0.816</td>\n",
       "      <td>MULTIPOLYGON Z (((-123.86194 41.98176 0.00000,...</td>\n",
       "    </tr>\n",
       "  </tbody>\n",
       "</table>\n",
       "<p>5 rows × 25 columns</p>\n",
       "</div>"
      ],
      "text/plain": [
       "   established  reGAP                        name  access_type  \\\n",
       "0         2024      2  Six Rivers National Forest  Open Access   \n",
       "1         2024      1  Six Rivers National Forest  Open Access   \n",
       "2         2024      1  Six Rivers National Forest  Open Access   \n",
       "3         2024      1  Six Rivers National Forest  Open Access   \n",
       "4         2024      1  Six Rivers National Forest  Open Access   \n",
       "\n",
       "                        manager manager_type  Easement     Acres      id  \\\n",
       "0  United States Forest Service      Federal         0  0.191763  100001   \n",
       "1  United States Forest Service      Federal         0  0.247565  100002   \n",
       "2  United States Forest Service      Federal         0  1.046992  100003   \n",
       "3  United States Forest Service      Federal         0  0.293964  100004   \n",
       "4  United States Forest Service      Federal         0  0.912564  100005   \n",
       "\n",
       "   type  ...  all_species_rwr  all_species_richness  human_impact    svi  \\\n",
       "0  Land  ...            0.355                 346.0       2339.00  0.521   \n",
       "1  Land  ...            0.355                 346.0        870.50  0.521   \n",
       "2  Land  ...            0.355                 346.0        429.00  0.521   \n",
       "3  Land  ...            0.355                 346.0       3907.00  0.521   \n",
       "4  Land  ...            0.355                 346.0        698.25  0.521   \n",
       "\n",
       "   justice40  svi_socioeconomic_status  svi_household_char  \\\n",
       "0        0.0                      0.29               0.522   \n",
       "1        0.0                      0.29               0.522   \n",
       "2        0.0                      0.29               0.522   \n",
       "3        0.0                      0.29               0.522   \n",
       "4        0.0                      0.29               0.522   \n",
       "\n",
       "   svi_racial_ethnic_minority  svi_housing_transit  \\\n",
       "0                       0.428                0.816   \n",
       "1                       0.428                0.816   \n",
       "2                       0.429                0.816   \n",
       "3                       0.428                0.816   \n",
       "4                       0.428                0.816   \n",
       "\n",
       "                                                geom  \n",
       "0  MULTIPOLYGON Z (((-123.94358 41.95869 0.00000,...  \n",
       "1  MULTIPOLYGON Z (((-123.98793 41.94847 0.00000,...  \n",
       "2  MULTIPOLYGON Z (((-123.87957 41.97172 0.00000,...  \n",
       "3  MULTIPOLYGON Z (((-123.84466 41.99139 0.00000,...  \n",
       "4  MULTIPOLYGON Z (((-123.86194 41.98176 0.00000,...  \n",
       "\n",
       "[5 rows x 25 columns]"
      ]
     },
     "execution_count": 130,
     "metadata": {},
     "output_type": "execute_result"
    }
   ],
   "source": [
    "## clean up\n",
    "con = ibis.duckdb.connect(extensions=[\"spatial\"])\n",
    "ca_geom = con.read_parquet(\"ca2024-30m.parquet\").cast({\"geom\":\"geometry\"}).select(\"id\",\"geom\")\n",
    "\n",
    "ca = (con\n",
    "        .read_parquet(\"cpad-stats-temp.parquet\")\n",
    "        .cast({\n",
    "            \"crop_expansion\": \"int64\",\n",
    "            \"crop_reduction\": \"int64\",\n",
    "            \"manageable_carbon\": \"int64\",\n",
    "            \"irrecoverable_carbon\": \"int64\"\n",
    "        })\n",
    "        .rename(svi = \"SVI\")\n",
    "        .mutate(\n",
    "            richness=_.richness.round(3),\n",
    "            rsr=_.rsr.round(3),\n",
    "            all_species_rwr=_.all_species_rwr.round(3),\n",
    "            all_species_richness=_.all_species_richness.round(3),\n",
    "            svi=_.svi.round(3),\n",
    "            justice40=(_.justice40/100).round(3),\n",
    "            svi_socioeconomic_status=_.socioeconomic_status.round(3),\n",
    "            svi_household_char=_.household_char.round(3),\n",
    "            svi_racial_ethnic_minority=_.racial_ethnic_minority.round(3),\n",
    "            svi_housing_transit=_.housing_transit.round(3),\n",
    "            human_impact=_.human_impact.round(3),\n",
    "            deforest_carbon=_.deforest_carbon.round(3),\n",
    "            biodiversity_intactness_loss=_.biodiversity_intactness_loss.round(3),\n",
    "            forest_integrity_loss=_.forest_integrity_loss.round(3),\n",
    "        )\n",
    "        .drop(\"geometry\", \"__index_level_0__\",\"socioeconomic_status\", \"household_char\", \"racial_ethnic_minority\", \"housing_transit\", \n",
    "              \"biodiversity_intactness_loss\",\"forest_integrity_loss\",\"crop_reduction\",\"crop_expansion\"\n",
    "             )    \n",
    "        .join(ca_geom, \"id\", how=\"inner\")\n",
    "    )\n",
    "\n",
    "\n",
    "ca.head(5).execute()\n"
   ]
  },
  {
   "cell_type": "markdown",
   "id": "3780de2c-3a68-442c-bb3b-64c792418979",
   "metadata": {},
   "source": [
    "# Save as PMTiles + Upload data"
   ]
  },
  {
   "cell_type": "code",
   "execution_count": 131,
   "id": "05c791c9-888a-483a-9dbb-a2ba7eb1bce2",
   "metadata": {},
   "outputs": [
    {
     "name": "stderr",
     "output_type": "stream",
     "text": [
      "Note: Environment variable`HF_TOKEN` is set and is the current active token independently from the token you've just configured.\n"
     ]
    }
   ],
   "source": [
    "import subprocess\n",
    "import os\n",
    "from huggingface_hub import HfApi, login\n",
    "import streamlit as st\n",
    "\n",
    "login(st.secrets[\"HF_TOKEN\"])\n",
    "# api = HfApi(add_to_git_credential=False)\n",
    "api = HfApi()\n",
    "\n",
    "def hf_upload(file, repo_id):\n",
    "    info = api.upload_file(\n",
    "            path_or_fileobj=file,\n",
    "            path_in_repo=file,\n",
    "            repo_id=repo_id,\n",
    "            repo_type=\"dataset\",\n",
    "        )\n",
    "def generate_pmtiles(input_file, output_file, max_zoom=12):\n",
    "    # Ensure Tippecanoe is installed\n",
    "    if subprocess.call([\"which\", \"tippecanoe\"], stdout=subprocess.DEVNULL) != 0:\n",
    "        raise RuntimeError(\"Tippecanoe is not installed or not in PATH\")\n",
    "\n",
    "    # Construct the Tippecanoe command\n",
    "    command = [\n",
    "        \"tippecanoe\",\n",
    "        \"-o\", output_file,\n",
    "        \"-zg\",\n",
    "        \"--extend-zooms-if-still-dropping\",\n",
    "        \"--force\",\n",
    "        \"--projection\", \"EPSG:4326\",  \n",
    "        \"-L\",\"layer:\"+input_file,\n",
    "    ]\n",
    "    # Run Tippecanoe\n",
    "    try:\n",
    "        subprocess.run(command, check=True)\n",
    "        print(f\"Successfully generated PMTiles file: {output_file}\")\n",
    "    except subprocess.CalledProcessError as e:\n",
    "        print(f\"Error running Tippecanoe: {e}\")\n",
    "\n"
   ]
  },
  {
   "cell_type": "code",
   "execution_count": 132,
   "id": "1f2d179d-6d47-4e84-83c6-7cb3d969fc00",
   "metadata": {},
   "outputs": [
    {
     "name": "stderr",
     "output_type": "stream",
     "text": [
      "cpad-stats.geojson:6: ignoring dimensions beyond two: in JSON object [-123.94358428532209,41.95869046159588,0]\n",
      "cpad-stats.geojson:6: ignoring dimensions beyond two: in JSON object {\"type\":\"Feature\",\"properties\":{\"established\":2024,\"reGAP\":2,\"name\":\"Six Rivers National Forest\",\"access_type\":\"Open Access\",\"manager\":\"United States Forest Service\",\"manager_type\":\"Federal\",\"Easement\":0,\"Acres\":0.19176256656646729,\"id\":100001,\"type\":\"Land\",\"richness\":4,\"rsr\":0.007,\"deforest_carbon\":0,\"irrecoverable_carbon\":4,\"manageable_carbon\":85,\"all_species_rwr\":0.355,\"all_species_richness\":346,\"human_impact\":2339,\"svi\":0.521,\"justice40\":0,\"svi_socioeconomic_status\":0.29,\"svi_household_ch...\n",
      "81196 features, 77613888 bytes of geometry, 3021623 bytes of string pool\n",
      "Choosing a maxzoom of -z10 for features typically 1202 feet (367 meters) apart, and at least 77 feet (24 meters) apart\n",
      "Choosing a maxzoom of -z13 for resolution of about 39 feet (11 meters) within features\n",
      "tile 4/2/6 size is 739078 with detail 12, >500000    \n",
      "tile 5/5/12 size is 1225784 with detail 12, >500000    \n",
      "tile 5/5/12 size is 720473 with detail 11, >500000    \n",
      "tile 6/11/25 size is 559822 with detail 12, >500000    \n",
      "tile 6/10/24 size is 1012378 with detail 12, >500000    \n",
      "tile 6/10/24 size is 686077 with detail 11, >500000    \n",
      "tile 7/20/49 size is 642314 with detail 12, >500000    \n",
      "tile 7/22/51 size is 600090 with detail 12, >500000    \n",
      "  99.9%  13/1335/3225  \n",
      "  100.0%  13/1278/3041  \r"
     ]
    },
    {
     "name": "stdout",
     "output_type": "stream",
     "text": [
      "Successfully generated PMTiles file: cpad-stats.pmtiles\n"
     ]
    },
    {
     "data": {
      "application/vnd.jupyter.widget-view+json": {
       "model_id": "0cb245402c8d42e4ab020ace580d13eb",
       "version_major": 2,
       "version_minor": 0
      },
      "text/plain": [
       "cpad-stats.pmtiles:   0%|          | 0.00/90.4M [00:00<?, ?B/s]"
      ]
     },
     "metadata": {},
     "output_type": "display_data"
    },
    {
     "data": {
      "application/vnd.jupyter.widget-view+json": {
       "model_id": "78f91869800d474ebd77500c15db063f",
       "version_major": 2,
       "version_minor": 0
      },
      "text/plain": [
       "cpad-stats.parquet:   0%|          | 0.00/204M [00:00<?, ?B/s]"
      ]
     },
     "metadata": {},
     "output_type": "display_data"
    }
   ],
   "source": [
    "gdf = ca.execute().set_crs(\"EPSG:4326\")\n",
    "gdf.to_file(\"cpad-stats.geojson\")\n",
    "\n",
    "generate_pmtiles(\"cpad-stats.geojson\", \"cpad-stats.pmtiles\")\n",
    "hf_upload(\"cpad-stats.pmtiles\", \"boettiger-lab/ca-30x30\")\n",
    "\n",
    "gdf.to_parquet(\"cpad-stats.parquet\")\n",
    "hf_upload(\"cpad-stats.parquet\", \"boettiger-lab/ca-30x30\")\n",
    "\n"
   ]
  },
  {
   "cell_type": "code",
   "execution_count": null,
   "id": "bf53bfe6-2175-4aa8-b3cb-be2c1db86b1b",
   "metadata": {},
   "outputs": [],
   "source": []
  }
 ],
 "metadata": {
  "kernelspec": {
   "display_name": "Python 3 (ipykernel)",
   "language": "python",
   "name": "python3"
  },
  "language_info": {
   "codemirror_mode": {
    "name": "ipython",
    "version": 3
   },
   "file_extension": ".py",
   "mimetype": "text/x-python",
   "name": "python",
   "nbconvert_exporter": "python",
   "pygments_lexer": "ipython3",
   "version": "3.12.7"
  }
 },
 "nbformat": 4,
 "nbformat_minor": 5
}
